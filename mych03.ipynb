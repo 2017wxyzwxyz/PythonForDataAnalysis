{
 "cells": [
  {
   "cell_type": "markdown",
   "metadata": {},
   "source": [
    "# IPython使用"
   ]
  },
  {
   "cell_type": "markdown",
   "metadata": {},
   "source": [
    "##  1. IPython基础"
   ]
  },
  {
   "cell_type": "code",
   "execution_count": 1,
   "metadata": {
    "collapsed": true
   },
   "outputs": [],
   "source": [
    "a = 5"
   ]
  },
  {
   "cell_type": "code",
   "execution_count": 2,
   "metadata": {
    "collapsed": false
   },
   "outputs": [
    {
     "data": {
      "text/plain": [
       "5"
      ]
     },
     "execution_count": 2,
     "metadata": {},
     "output_type": "execute_result"
    }
   ],
   "source": [
    "a"
   ]
  },
  {
   "cell_type": "code",
   "execution_count": 14,
   "metadata": {
    "collapsed": true
   },
   "outputs": [],
   "source": [
    "import numpy as np"
   ]
  },
  {
   "cell_type": "code",
   "execution_count": 16,
   "metadata": {
    "collapsed": false
   },
   "outputs": [],
   "source": [
    "from numpy.random import randn"
   ]
  },
  {
   "cell_type": "code",
   "execution_count": 21,
   "metadata": {
    "collapsed": false
   },
   "outputs": [],
   "source": [
    "data = { i : randn() for i in range(7) }"
   ]
  },
  {
   "cell_type": "code",
   "execution_count": 22,
   "metadata": {
    "collapsed": false
   },
   "outputs": [
    {
     "data": {
      "text/plain": [
       "{0: -0.7628583774754341,\n",
       " 1: -0.20583276141279028,\n",
       " 2: 0.38062450248969965,\n",
       " 3: -0.10249040073423539,\n",
       " 4: -0.31534088750878536,\n",
       " 5: -1.9323124469360915,\n",
       " 6: -1.2825869885002574}"
      ]
     },
     "execution_count": 22,
     "metadata": {},
     "output_type": "execute_result"
    }
   ],
   "source": [
    "data"
   ]
  },
  {
   "cell_type": "code",
   "execution_count": 23,
   "metadata": {
    "collapsed": true
   },
   "outputs": [],
   "source": [
    "an_apple = 27"
   ]
  },
  {
   "cell_type": "code",
   "execution_count": 24,
   "metadata": {
    "collapsed": true
   },
   "outputs": [],
   "source": [
    "an_example = 42"
   ]
  },
  {
   "cell_type": "code",
   "execution_count": 25,
   "metadata": {
    "collapsed": true
   },
   "outputs": [],
   "source": [
    "b = [1, 2, 3]"
   ]
  },
  {
   "cell_type": "code",
   "execution_count": 27,
   "metadata": {
    "collapsed": false
   },
   "outputs": [],
   "source": [
    "import datetime"
   ]
  },
  {
   "cell_type": "markdown",
   "metadata": {},
   "source": [
    "## 2. 内省"
   ]
  },
  {
   "cell_type": "code",
   "execution_count": 29,
   "metadata": {
    "collapsed": true
   },
   "outputs": [],
   "source": [
    "# 在变量的前面或后面加上一个问号(?)就可以将有关该对象的一些通用信息显示出来,这就叫做内省\n",
    "b?"
   ]
  },
  {
   "cell_type": "code",
   "execution_count": 30,
   "metadata": {
    "collapsed": true
   },
   "outputs": [],
   "source": [
    "# 如果对象时一个函数或者实例方法，则其docstring也会被显示出来\n",
    "def add_numbers(a,b):\n",
    "    \"\"\"\n",
    "    Add two numbers together\n",
    "    Returns\n",
    "    -------\n",
    "    the_sum : type of arguments\n",
    "    \"\"\"\n",
    "    return a+b"
   ]
  },
  {
   "cell_type": "code",
   "execution_count": 32,
   "metadata": {
    "collapsed": false
   },
   "outputs": [],
   "source": [
    "add_numbers?"
   ]
  },
  {
   "cell_type": "code",
   "execution_count": 33,
   "metadata": {
    "collapsed": true
   },
   "outputs": [],
   "source": [
    "# 用于搜索命名空间\n",
    "# 例如：列出Numpy顶级命名空间中含有“load”的所有函数\n",
    "np.*load*?"
   ]
  },
  {
   "cell_type": "markdown",
   "metadata": {},
   "source": [
    "## 3. 魔术命令"
   ]
  },
  {
   "cell_type": "code",
   "execution_count": 34,
   "metadata": {
    "collapsed": true
   },
   "outputs": [],
   "source": [
    "a = np.random.rand(100,100)"
   ]
  },
  {
   "cell_type": "code",
   "execution_count": 35,
   "metadata": {
    "collapsed": false
   },
   "outputs": [
    {
     "name": "stdout",
     "output_type": "stream",
     "text": [
      "The slowest run took 2225.74 times longer than the fastest. This could mean that an intermediate result is being cached.\n",
      "1 loop, best of 3: 150 µs per loop\n"
     ]
    }
   ],
   "source": [
    "%timeit np.dot(a,a)   # %timeit 这个魔术命令可以检测任意python语句的执行时间 "
   ]
  },
  {
   "cell_type": "code",
   "execution_count": null,
   "metadata": {
    "collapsed": true
   },
   "outputs": [],
   "source": [
    "# 魔术命令默认是可以不带百分号使用的，只要没有定义与其同名的变量即可，这个技术叫做automagic，可以通过%automagic%d打开或关闭\n",
    "%quickref"
   ]
  },
  {
   "cell_type": "code",
   "execution_count": 1,
   "metadata": {
    "collapsed": true
   },
   "outputs": [],
   "source": [
    "# 一个非常大的字符串数组\n",
    "strings = ['foo', 'foobar', 'baz', 'qux', 'python', 'Guido Van Rossum'] * 100000"
   ]
  },
  {
   "cell_type": "code",
   "execution_count": 2,
   "metadata": {
    "collapsed": false
   },
   "outputs": [
    {
     "name": "stdout",
     "output_type": "stream",
     "text": [
      "Wall time: 266 ms\n"
     ]
    }
   ],
   "source": [
    "%time method1 = [x for x in strings if x.startswith('foo')]"
   ]
  },
  {
   "cell_type": "code",
   "execution_count": 3,
   "metadata": {
    "collapsed": false
   },
   "outputs": [
    {
     "name": "stdout",
     "output_type": "stream",
     "text": [
      "Wall time: 149 ms\n"
     ]
    }
   ],
   "source": [
    "%time method2 = [x for x in strings if  x[:3] ==  'foo']"
   ]
  },
  {
   "cell_type": "markdown",
   "metadata": {
    "collapsed": true
   },
   "source": [
    "## 基本性能分析"
   ]
  },
  {
   "cell_type": "code",
   "execution_count": 4,
   "metadata": {
    "collapsed": true
   },
   "outputs": [],
   "source": [
    "# 主要使用cProfile模块"
   ]
  },
  {
   "cell_type": "code",
   "execution_count": 10,
   "metadata": {
    "collapsed": false
   },
   "outputs": [
    {
     "name": "stdout",
     "output_type": "stream",
     "text": [
      "Largest one we saw: 50.7141335928\n",
      "         15899 function calls (15778 primitive calls) in 1.163 seconds\n",
      "\n",
      "   Ordered by: cumulative time\n",
      "\n",
      "   ncalls  tottime  percall  cumtime  percall filename:lineno(function)\n",
      "        1    0.001    0.001    1.163    1.163 cprof_example.py:1(<module>)\n",
      "        1    0.002    0.002    1.053    1.053 cprof_example.py:3(run_experiment)\n",
      "      100    1.011    0.010    1.028    0.010 linalg.py:832(eigvals)\n",
      "        4    0.022    0.005    0.148    0.037 __init__.py:1(<module>)\n",
      "        1    0.006    0.006    0.109    0.109 __init__.py:106(<module>)\n",
      "        1    0.001    0.001    0.081    0.081 add_newdocs.py:10(<module>)\n",
      "        1    0.001    0.001    0.064    0.064 type_check.py:3(<module>)\n",
      "        1    0.001    0.001    0.034    0.034 __init__.py:7(<module>)\n",
      "      100    0.022    0.000    0.022    0.000 {method 'rand' of 'mtrand.RandomState' objects}\n",
      "        1    0.002    0.002    0.022    0.022 decorators.py:15(<module>)\n",
      "        1    0.003    0.003    0.020    0.020 utils.py:4(<module>)\n",
      "        1    0.002    0.002    0.013    0.013 tempfile.py:18(<module>)\n",
      "        2    0.003    0.001    0.013    0.007 __init__.py:45(<module>)\n",
      "        1    0.002    0.002    0.012    0.012 _internal.py:6(<module>)\n",
      "      100    0.011    0.000    0.012    0.000 linalg.py:214(_assertFinite)\n",
      "        1    0.001    0.001    0.010    0.010 random.py:40(<module>)\n",
      "        1    0.002    0.002    0.007    0.007 __init__.py:41(<module>)\n",
      "        1    0.000    0.000    0.007    0.007 random.py:91(__init__)\n",
      "        1    0.000    0.000    0.007    0.007 random.py:100(seed)\n",
      "        1    0.003    0.003    0.006    0.006 numeric.py:1(<module>)\n",
      "        1    0.006    0.006    0.006    0.006 {nt.urandom}\n",
      "        1    0.003    0.003    0.005    0.005 __init__.py:15(<module>)\n",
      "        1    0.004    0.004    0.005    0.005 __init__.py:88(<module>)\n",
      "        1    0.001    0.001    0.004    0.004 core.py:21(<module>)\n",
      "       17    0.000    0.000    0.004    0.000 re.py:192(compile)\n",
      "       17    0.000    0.000    0.004    0.000 re.py:230(_compile)\n",
      "       13    0.000    0.000    0.004    0.000 sre_compile.py:567(compile)\n",
      "        1    0.002    0.002    0.003    0.003 index_tricks.py:1(<module>)\n",
      "        1    0.002    0.002    0.003    0.003 case.py:1(<module>)\n",
      "        1    0.001    0.001    0.003    0.003 numerictypes.py:82(<module>)\n",
      "        1    0.001    0.001    0.003    0.003 polynomial.py:4(<module>)\n",
      "      301    0.003    0.000    0.003    0.000 {method 'reduce' of 'numpy.ufunc' objects}\n",
      "      273    0.001    0.000    0.003    0.000 function_base.py:3944(add_newdoc)\n",
      "      200    0.000    0.000    0.002    0.000 {method 'all' of 'numpy.ndarray' objects}\n",
      "        1    0.001    0.001    0.002    0.002 result.py:1(<module>)\n",
      "       13    0.000    0.000    0.002    0.000 sre_parse.py:706(parse)\n",
      "        1    0.002    0.002    0.002    0.002 shutil.py:5(<module>)\n",
      "      200    0.000    0.000    0.002    0.000 _methods.py:40(_all)\n",
      "        1    0.002    0.002    0.002    0.002 collections.py:11(<module>)\n",
      "    19/13    0.000    0.000    0.002    0.000 sre_parse.py:317(_parse_sub)\n",
      "      100    0.000    0.000    0.002    0.000 fromnumeric.py:1987(all)\n",
      "        1    0.002    0.002    0.002    0.002 hashlib.py:56(<module>)\n",
      "    19/13    0.001    0.000    0.002    0.000 sre_parse.py:395(_parse)\n",
      "       13    0.000    0.000    0.002    0.000 sre_compile.py:552(_code)\n",
      "        1    0.001    0.001    0.002    0.002 npyio.py:1(<module>)\n",
      "       16    0.000    0.000    0.002    0.000 abc.py:86(__new__)\n",
      "        1    0.001    0.001    0.002    0.002 loader.py:1(<module>)\n",
      "        1    0.001    0.001    0.001    0.001 polynomial.py:55(<module>)\n",
      "        2    0.001    0.001    0.001    0.001 collections.py:305(namedtuple)\n",
      "      274    0.001    0.000    0.001    0.000 {__import__}\n",
      "        1    0.001    0.001    0.001    0.001 core.py:2683(MaskedArray)\n",
      "    40/13    0.000    0.000    0.001    0.000 sre_compile.py:64(_compile)\n",
      "        5    0.000    0.000    0.001    0.000 warnings.py:67(filterwarnings)\n",
      "        1    0.000    0.000    0.001    0.001 main.py:1(<module>)\n",
      "        1    0.001    0.001    0.001    0.001 linalg.py:10(<module>)\n",
      "        1    0.001    0.001    0.001    0.001 arrayprint.py:5(<module>)\n",
      "        1    0.000    0.000    0.001    0.001 difflib.py:27(<module>)\n",
      "       43    0.000    0.000    0.001    0.000 core.py:113(get_object_signature)\n",
      "      100    0.000    0.000    0.001    0.000 {method 'max' of 'numpy.ndarray' objects}\n",
      "       26    0.000    0.000    0.001    0.000 core.py:6353(__init__)\n",
      "        1    0.000    0.000    0.001    0.001 __init__.py:3(<module>)\n",
      "       26    0.000    0.000    0.001    0.000 core.py:6358(getdoc)\n",
      "        1    0.000    0.000    0.001    0.001 io.py:34(<module>)\n",
      "      101    0.000    0.000    0.001    0.000 _methods.py:25(_amax)\n",
      "     1419    0.001    0.000    0.001    0.000 {getattr}\n",
      "        1    0.000    0.000    0.001    0.001 numbers.py:6(<module>)\n",
      "  489/461    0.000    0.000    0.001    0.000 {issubclass}\n",
      "        1    0.000    0.000    0.001    0.001 util.py:1(<module>)\n",
      "        1    0.001    0.001    0.001    0.001 {function seed at 0x0000000002BF00B8}\n",
      "      100    0.000    0.000    0.001    0.000 linalg.py:139(_commonType)\n",
      "        1    0.001    0.001    0.001    0.001 __init__.py:10(<module>)\n",
      "        1    0.001    0.001    0.001    0.001 runner.py:1(<module>)\n",
      "        1    0.000    0.000    0.001    0.001 threading.py:1(<module>)\n",
      "        2    0.001    0.000    0.001    0.000 function_base.py:1(<module>)\n",
      "       15    0.000    0.000    0.001    0.000 abc.py:105(register)\n",
      "       19    0.000    0.000    0.001    0.000 nosetester.py:511(_numpy_tester)\n",
      "        1    0.000    0.000    0.001    0.001 utils.py:1(<module>)\n",
      "      300    0.000    0.000    0.001    0.000 linalg.py:111(isComplexType)\n",
      "      270    0.000    0.000    0.001    0.000 sre_parse.py:212(get)\n",
      "       38    0.000    0.000    0.001    0.000 _inspect.py:142(formatargspec)\n",
      "       17    0.001    0.000    0.001    0.000 {built-in method __new__ of type object at 0x000000001E2A3720}\n",
      "    20/15    0.000    0.000    0.001    0.000 abc.py:148(__subclasscheck__)\n",
      "        1    0.000    0.000    0.000    0.000 fftpack.py:32(<module>)\n",
      "        1    0.000    0.000    0.000    0.000 py3k.py:71(sixu)\n",
      "        1    0.000    0.000    0.000    0.000 numerictypes.py:301(_add_aliases)\n",
      "      100    0.000    0.000    0.000    0.000 linalg.py:106(_makearray)\n",
      "        1    0.000    0.000    0.000    0.000 __init__.py:71(search_function)\n",
      "      314    0.000    0.000    0.000    0.000 sre_parse.py:193(__next)\n",
      "       13    0.000    0.000    0.000    0.000 sre_compile.py:433(_compile_info)\n",
      "       15    0.000    0.000    0.000    0.000 sre_compile.py:228(_compile_charset)\n",
      "      100    0.000    0.000    0.000    0.000 linalg.py:209(_assertNdSquareness)\n",
      "        1    0.000    0.000    0.000    0.000 defmatrix.py:1(<module>)\n",
      "        1    0.000    0.000    0.000    0.000 suite.py:1(<module>)\n",
      "       43    0.000    0.000    0.000    0.000 _inspect.py:98(getargspec)\n",
      "        1    0.000    0.000    0.000    0.000 extras.py:10(<module>)\n",
      "        1    0.000    0.000    0.000    0.000 fromnumeric.py:3(<module>)\n",
      "       19    0.000    0.000    0.000    0.000 nosetester.py:170(__init__)\n",
      "       15    0.000    0.000    0.000    0.000 sre_compile.py:256(_optimize_charset)\n",
      "    61/34    0.000    0.000    0.000    0.000 sre_parse.py:151(getwidth)\n",
      "       72    0.000    0.000    0.000    0.000 abc.py:89(<genexpr>)\n",
      "        1    0.000    0.000    0.000    0.000 ctypeslib.py:51(<module>)\n",
      "      100    0.000    0.000    0.000    0.000 numeric.py:484(asanyarray)\n",
      "      973    0.000    0.000    0.000    0.000 {isinstance}\n",
      "      100    0.000    0.000    0.000    0.000 {method 'astype' of 'numpy.ndarray' objects}\n",
      "      100    0.000    0.000    0.000    0.000 linalg.py:101(get_linalg_error_extobj)\n",
      "        1    0.000    0.000    0.000    0.000 heapq.py:31(<module>)\n",
      "        1    0.000    0.000    0.000    0.000 legendre.py:83(<module>)\n",
      "       26    0.000    0.000    0.000    0.000 numerictypes.py:229(bitname)\n",
      "       27    0.000    0.000    0.000    0.000 core.py:903(__init__)\n",
      "        3    0.000    0.000    0.000    0.000 numeric.py:365(extend_all)\n",
      "       19    0.000    0.000    0.000    0.000 ntpath.py:213(dirname)\n",
      "      269    0.000    0.000    0.000    0.000 {method 'strip' of 'str' objects}\n",
      "      145    0.000    0.000    0.000    0.000 sre_parse.py:141(__getitem__)\n",
      "        1    0.000    0.000    0.000    0.000 signals.py:1(<module>)\n",
      "       38    0.000    0.000    0.000    0.000 _inspect.py:67(getargs)\n",
      "     1515    0.000    0.000    0.000    0.000 {method 'append' of 'list' objects}\n",
      "        1    0.000    0.000    0.000    0.000 _iotools.py:3(<module>)\n",
      "        1    0.000    0.000    0.000    0.000 numerictypes.py:957(_register_types)\n",
      "       19    0.000    0.000    0.000    0.000 ntpath.py:174(split)\n",
      "        1    0.000    0.000    0.000    0.000 _polybase.py:8(<module>)\n",
      "      100    0.000    0.000    0.000    0.000 linalg.py:198(_assertRankAtLeast2)\n",
      "        9    0.000    0.000    0.000    0.000 extras.py:232(__init__)\n",
      "      238    0.000    0.000    0.000    0.000 {numpy.core.multiarray.array}\n",
      "        9    0.000    0.000    0.000    0.000 extras.py:236(getdoc)\n",
      "        1    0.000    0.000    0.000    0.000 twodim_base.py:3(<module>)\n",
      "      100    0.000    0.000    0.000    0.000 numeric.py:414(asarray)\n",
      "       43    0.000    0.000    0.000    0.000 _weakrefset.py:58(__iter__)\n",
      "        1    0.000    0.000    0.000    0.000 getlimits.py:3(<module>)\n",
      "        4    0.000    0.000    0.000    0.000 {nt.putenv}\n",
      "      100    0.000    0.000    0.000    0.000 linalg.py:219(_assertNoEmpty2d)\n",
      "      100    0.000    0.000    0.000    0.000 linalg.py:127(_complexType)\n",
      "        8    0.000    0.000    0.000    0.000 core.py:7777(__init__)\n",
      "       64    0.000    0.000    0.000    0.000 _weakrefset.py:36(__init__)\n",
      "        1    0.000    0.000    0.000    0.000 chebyshev.py:87(<module>)\n",
      "        1    0.000    0.000    0.000    0.000 hermite_e.py:59(<module>)\n",
      "        1    0.000    0.000    0.000    0.000 hermite.py:59(<module>)\n",
      "1160/1138    0.000    0.000    0.000    0.000 {len}\n",
      "        8    0.000    0.000    0.000    0.000 core.py:7782(getdoc)\n",
      "        1    0.000    0.000    0.000    0.000 numbers.py:34(Complex)\n",
      "        1    0.000    0.000    0.000    0.000 laguerre.py:59(<module>)\n",
      "       49    0.000    0.000    0.000    0.000 abc.py:15(abstractmethod)\n",
      "        1    0.000    0.000    0.000    0.000 polyutils.py:45(<module>)\n",
      "       18    0.000    0.000    0.000    0.000 core.py:981(__init__)\n",
      "       98    0.000    0.000    0.000    0.000 _inspect.py:133(strseq)\n",
      "        1    0.000    0.000    0.000    0.000 _datasource.py:35(<module>)\n",
      "      269    0.000    0.000    0.000    0.000 {numpy.core.multiarray.add_docstring}\n",
      "        1    0.000    0.000    0.000    0.000 __init__.py:262(_reset_cache)\n",
      "        3    0.000    0.000    0.000    0.000 __init__.py:75(CFUNCTYPE)\n",
      "      100    0.000    0.000    0.000    0.000 linalg.py:124(_realType)\n",
      "        1    0.000    0.000    0.000    0.000 defchararray.py:17(<module>)\n",
      "        1    0.000    0.000    0.000    0.000 records.py:36(<module>)\n",
      "        1    0.000    0.000    0.000    0.000 numerictypes.py:285(_add_types)\n",
      "      115    0.000    0.000    0.000    0.000 sre_parse.py:206(match)\n",
      "        1    0.000    0.000    0.000    0.000 numerictypes.py:451(_set_array_types)\n",
      "      137    0.000    0.000    0.000    0.000 sre_parse.py:149(append)\n",
      "        1    0.000    0.000    0.000    0.000 getlimits.py:195(iinfo)\n",
      "       61    0.000    0.000    0.000    0.000 {method 'join' of 'str' objects}\n",
      "        2    0.000    0.000    0.000    0.000 os.py:421(__setitem__)\n",
      "        2    0.000    0.000    0.000    0.000 os.py:432(__delitem__)\n",
      "      264    0.000    0.000    0.000    0.000 {method 'get' of 'dict' objects}\n",
      "       14    0.000    0.000    0.000    0.000 __init__.py:144(_check_size)\n",
      "        1    0.000    0.000    0.000    0.000 contextlib.py:1(<module>)\n",
      "      100    0.000    0.000    0.000    0.000 {max}\n",
      "        1    0.000    0.000    0.000    0.000 _endian.py:1(<module>)\n",
      "        2    0.000    0.000    0.000    0.000 os.py:407(unsetenv)\n",
      "       19    0.000    0.000    0.000    0.000 ntpath.py:96(splitdrive)\n",
      "        1    0.000    0.000    0.000    0.000 threading.py:1081(__init__)\n",
      "        2    0.000    0.000    0.000    0.000 __init__.py:346(__init__)\n",
      "       21    0.000    0.000    0.000    0.000 sre_compile.py:428(_simple)\n",
      "        1    0.000    0.000    0.000    0.000 unicode_escape.py:8(<module>)\n",
      "        1    0.000    0.000    0.000    0.000 scimath.py:17(<module>)\n",
      "        1    0.000    0.000    0.000    0.000 _import_tools.py:1(<module>)\n",
      "        1    0.000    0.000    0.000    0.000 _globals.py:17(<module>)\n",
      "        3    0.000    0.000    0.000    0.000 __init__.py:490(PYFUNCTYPE)\n",
      "       12    0.000    0.000    0.000    0.000 ctypeslib.py:330(prep_simple)\n",
      "      180    0.000    0.000    0.000    0.000 {min}\n",
      "       16    0.000    0.000    0.000    0.000 {method 'format' of 'str' objects}\n",
      "       21    0.000    0.000    0.000    0.000 numerictypes.py:216(_evalname)\n",
      "       30    0.000    0.000    0.000    0.000 numerictypes.py:443(_add_array_type)\n",
      "       60    0.000    0.000    0.000    0.000 _inspect.py:146(<lambda>)\n",
      "        5    0.000    0.000    0.000    0.000 {map}\n",
      "      512    0.000    0.000    0.000    0.000 {chr}\n",
      "       93    0.000    0.000    0.000    0.000 {range}\n",
      "        5    0.000    0.000    0.000    0.000 contextlib.py:54(contextmanager)\n",
      "        8    0.000    0.000    0.000    0.000 functools.py:17(update_wrapper)\n",
      "        1    0.000    0.000    0.000    0.000 nosetester.py:6(<module>)\n",
      "        1    0.000    0.000    0.000    0.000 arrayterator.py:9(<module>)\n",
      "       13    0.000    0.000    0.000    0.000 sre_parse.py:189(__init__)\n",
      "        1    0.000    0.000    0.000    0.000 numerictypes.py:781(_construct_lookups)\n",
      "        6    0.000    0.000    0.000    0.000 core.py:1139(__init__)\n",
      "        2    0.000    0.000    0.000    0.000 {_ctypes.POINTER}\n",
      "       20    0.000    0.000    0.000    0.000 _weakrefset.py:26(__exit__)\n",
      "        1    0.000    0.000    0.000    0.000 fromnumeric.py:2200(amax)\n",
      "        4    0.000    0.000    0.000    0.000 sre_compile.py:411(_mk_bitmap)\n",
      "        1    0.000    0.000    0.000    0.000 threading.py:647(__init__)\n",
      "        1    0.000    0.000    0.000    0.000 numerictypes.py:338(_add_integer_aliases)\n",
      "        1    0.000    0.000    0.000    0.000 memmap.py:1(<module>)\n",
      "       72    0.000    0.000    0.000    0.000 numerictypes.py:127(english_lower)\n",
      "        1    0.000    0.000    0.000    0.000 __init__.py:429(__getattr__)\n",
      "        1    0.000    0.000    0.000    0.000 result.py:26(TestResult)\n",
      "        1    0.000    0.000    0.000    0.000 linalg.py:76(_determine_error_states)\n",
      "        3    0.000    0.000    0.000    0.000 utils.py:117(deprecate)\n",
      "       43    0.000    0.000    0.000    0.000 _inspect.py:15(ismethod)\n",
      "       21    0.000    0.000    0.000    0.000 {numpy.core.multiarray.empty}\n",
      "       66    0.000    0.000    0.000    0.000 sre_compile.py:101(fixup)\n",
      "       35    0.000    0.000    0.000    0.000 _weakrefset.py:83(add)\n",
      "        3    0.000    0.000    0.000    0.000 utils.py:73(__call__)\n",
      "       85    0.000    0.000    0.000    0.000 sre_parse.py:137(__len__)\n",
      "        1    0.000    0.000    0.000    0.000 <string>:1(<module>)\n",
      "      117    0.000    0.000    0.000    0.000 {method 'add' of 'set' objects}\n",
      "        8    0.000    0.000    0.000    0.000 {all}\n",
      "        3    0.000    0.000    0.000    0.000 result.py:14(failfast)\n",
      "        9    0.000    0.000    0.000    0.000 core.py:2521(_arraymethod)\n",
      "        2    0.000    0.000    0.000    0.000 shape_base.py:1(<module>)\n",
      "        1    0.000    0.000    0.000    0.000 machar.py:7(<module>)\n",
      "        5    0.000    0.000    0.000    0.000 getlimits.py:245(__init__)\n",
      "       62    0.000    0.000    0.000    0.000 {repr}\n",
      "        1    0.000    0.000    0.000    0.000 {binascii.hexlify}\n",
      "      154    0.000    0.000    0.000    0.000 {_sre.getlower}\n",
      "        1    0.000    0.000    0.000    0.000 _polybase.py:19(ABCPolyBase)\n",
      "        1    0.000    0.000    0.000    0.000 stride_tricks.py:7(<module>)\n",
      "        1    0.000    0.000    0.000    0.000 numerictypes.py:428(_construct_char_code_lookup)\n",
      "       46    0.000    0.000    0.000    0.000 collections.py:349(<genexpr>)\n",
      "       11    0.000    0.000    0.000    0.000 sre_parse.py:268(_escape)\n",
      "       43    0.000    0.000    0.000    0.000 _inspect.py:28(isfunction)\n",
      "       40    0.000    0.000    0.000    0.000 sre_parse.py:92(__init__)\n",
      "       20    0.000    0.000    0.000    0.000 _weakrefset.py:20(__enter__)\n",
      "        1    0.000    0.000    0.000    0.000 _iotools.py:473(StringConverter)\n",
      "      345    0.000    0.000    0.000    0.000 {globals}\n",
      "        1    0.000    0.000    0.000    0.000 numerictypes.py:379(_set_up_aliases)\n",
      "        8    0.000    0.000    0.000    0.000 collections.py:375(<genexpr>)\n",
      "       26    0.000    0.000    0.000    0.000 sre_compile.py:546(isstring)\n",
      "        1    0.000    0.000    0.000    0.000 defchararray.py:1669(chararray)\n",
      "        2    0.000    0.000    0.000    0.000 threading.py:242(Condition)\n",
      "      126    0.000    0.000    0.000    0.000 {method 'startswith' of 'str' objects}\n",
      "       49    0.000    0.000    0.000    0.000 {method 'find' of 'bytearray' objects}\n",
      "        1    0.000    0.000    0.000    0.000 format.py:149(<module>)\n",
      "       13    0.000    0.000    0.000    0.000 {_sre.compile}\n",
      "      116    0.000    0.000    0.000    0.000 {method 'translate' of 'str' objects}\n",
      "       39    0.000    0.000    0.000    0.000 numerictypes.py:154(english_upper)\n",
      "        1    0.000    0.000    0.000    0.000 _methods.py:5(<module>)\n",
      "        1    0.000    0.000    0.000    0.000 threading.py:542(Event)\n",
      "        6    0.000    0.000    0.000    0.000 hashlib.py:100(__get_openssl_constructor)\n",
      "        4    0.000    0.000    0.000    0.000 sre_parse.py:227(isname)\n",
      "        1    0.000    0.000    0.000    0.000 random.py:655(WichmannHill)\n",
      "        1    0.000    0.000    0.000    0.000 case.py:131(TestCase)\n",
      "        2    0.000    0.000    0.000    0.000 threading.py:260(__init__)\n",
      "       18    0.000    0.000    0.000    0.000 {_struct.calcsize}\n",
      "        1    0.000    0.000    0.000    0.000 threading.py:561(__init__)\n",
      "        1    0.000    0.000    0.000    0.000 numbers.py:295(Integral)\n",
      "       38    0.000    0.000    0.000    0.000 _inspect.py:43(iscode)\n",
      "       24    0.000    0.000    0.000    0.000 {method 'replace' of 'str' objects}\n",
      "       13    0.000    0.000    0.000    0.000 numerictypes.py:181(english_capitalize)\n",
      "        1    0.000    0.000    0.000    0.000 nanfunctions.py:19(<module>)\n",
      "       24    0.000    0.000    0.000    0.000 _weakrefset.py:70(__contains__)\n",
      "        2    0.000    0.000    0.000    0.000 numeric.py:2576(seterr)\n",
      "       17    0.000    0.000    0.000    0.000 {method 'keys' of 'dict' objects}\n",
      "       31    0.000    0.000    0.000    0.000 {method 'items' of 'dict' objects}\n",
      "        1    0.000    0.000    0.000    0.000 pprint.py:35(<module>)\n",
      "        1    0.000    0.000    0.000    0.000 __future__.py:48(<module>)\n",
      "        1    0.000    0.000    0.000    0.000 threading.py:576(set)\n",
      "        1    0.000    0.000    0.000    0.000 arrayterator.py:20(Arrayterator)\n",
      "        1    0.000    0.000    0.000    0.000 threading.py:631(Thread)\n",
      "       21    0.000    0.000    0.000    0.000 {method 'extend' of 'list' objects}\n",
      "        1    0.000    0.000    0.000    0.000 _version.py:7(<module>)\n",
      "        1    0.000    0.000    0.000    0.000 __init__.py:372(__getattr__)\n",
      "        1    0.000    0.000    0.000    0.000 numeric.py:2967(__enter__)\n",
      "        1    0.000    0.000    0.000    0.000 helper.py:4(<module>)\n",
      "        1    0.000    0.000    0.000    0.000 core.py:6111(__new__)\n",
      "        1    0.000    0.000    0.000    0.000 polynomial.py:1517(Polynomial)\n",
      "       27    0.000    0.000    0.000    0.000 {hasattr}\n",
      "      148    0.000    0.000    0.000    0.000 {ord}\n",
      "        1    0.000    0.000    0.000    0.000 StringIO.py:30(<module>)\n",
      "        1    0.000    0.000    0.000    0.000 py3k.py:4(<module>)\n",
      "       20    0.000    0.000    0.000    0.000 _weakrefset.py:16(__init__)\n",
      "       13    0.000    0.000    0.000    0.000 sre_parse.py:67(__init__)\n",
      "        1    0.000    0.000    0.000    0.000 collections.py:38(OrderedDict)\n",
      "        8    0.000    0.000    0.000    0.000 collections.py:373(<genexpr>)\n",
      "       20    0.000    0.000    0.000    0.000 _weakrefset.py:52(_commit_removals)\n",
      "        1    0.000    0.000    0.000    0.000 core.py:6104(MaskedConstant)\n",
      "        1    0.000    0.000    0.000    0.000 defmatrix.py:208(matrix)\n",
      "        1    0.000    0.000    0.000    0.000 unicode_escape.py:36(getregentry)\n",
      "        1    0.000    0.000    0.000    0.000 arraypad.py:5(<module>)\n",
      "        8    0.000    0.000    0.000    0.000 functools.py:39(wraps)\n",
      "        1    0.000    0.000    0.000    0.000 financial.py:10(<module>)\n",
      "        1    0.000    0.000    0.000    0.000 {_ctypes.LoadLibrary}\n",
      "        1    0.000    0.000    0.000    0.000 extras.py:1414(__init__)\n",
      "        5    0.000    0.000    0.000    0.000 sre_parse.py:74(opengroup)\n",
      "        1    0.000    0.000    0.000    0.000 keyword.py:11(<module>)\n",
      "        1    0.000    0.000    0.000    0.000 __init__.py:379(__getitem__)\n",
      "        1    0.000    0.000    0.000    0.000 _inspect.py:7(<module>)\n",
      "        1    0.000    0.000    0.000    0.000 <string>:1(Mismatch)\n",
      "        1    0.000    0.000    0.000    0.000 random.py:72(Random)\n",
      "        4    0.000    0.000    0.000    0.000 core.py:94(doc_note)\n",
      "       13    0.000    0.000    0.000    0.000 {method 'update' of 'dict' objects}\n",
      "        1    0.000    0.000    0.000    0.000 numbers.py:169(Real)\n",
      "        1    0.000    0.000    0.000    0.000 {method 'view' of 'numpy.ndarray' objects}\n",
      "        1    0.000    0.000    0.000    0.000 <string>:1(Match)\n",
      "       21    0.000    0.000    0.000    0.000 {sys._getframe}\n",
      "       50    0.000    0.000    0.000    0.000 {_ctypes.sizeof}\n",
      "        1    0.000    0.000    0.000    0.000 __init__.py:49(normalize_encoding)\n",
      "        3    0.000    0.000    0.000    0.000 index_tricks.py:242(__init__)\n",
      "        1    0.000    0.000    0.000    0.000 arraysetops.py:26(<module>)\n",
      "        1    0.000    0.000    0.000    0.000 tempfile.py:519(SpooledTemporaryFile)\n",
      "        1    0.000    0.000    0.000    0.000 info.py:86(<module>)\n",
      "        1    0.000    0.000    0.000    0.000 _iotools.py:250(NameValidator)\n",
      "        1    0.000    0.000    0.000    0.000 polynomial.py:940(poly1d)\n",
      "       21    0.000    0.000    0.000    0.000 sre_parse.py:145(__setitem__)\n",
      "        2    0.000    0.000    0.000    0.000 numeric.py:1871(set_string_function)\n",
      "       26    0.000    0.000    0.000    0.000 {setattr}\n",
      "        1    0.000    0.000    0.000    0.000 chebyshev.py:2041(Chebyshev)\n",
      "        1    0.000    0.000    0.000    0.000 legendre.py:1795(Legendre)\n",
      "        1    0.000    0.000    0.000    0.000 ufunclike.py:5(<module>)\n",
      "        1    0.000    0.000    0.000    0.000 core.py:5902(mvoid)\n",
      "        4    0.000    0.000    0.000    0.000 {thread.allocate_lock}\n",
      "        1    0.000    0.000    0.000    0.000 numeric.py:2978(_setdef)\n",
      "        1    0.000    0.000    0.000    0.000 hermite_e.py:1812(HermiteE)\n",
      "        2    0.000    0.000    0.000    0.000 getlimits.py:270(max)\n",
      "        5    0.000    0.000    0.000    0.000 sre_parse.py:85(closegroup)\n",
      "        1    0.000    0.000    0.000    0.000 {math.exp}\n",
      "        3    0.000    0.000    0.000    0.000 {numpy.core.umath.seterrobj}\n",
      "        1    0.000    0.000    0.000    0.000 laguerre.py:1765(Laguerre)\n",
      "        1    0.000    0.000    0.000    0.000 hermite.py:1815(Hermite)\n",
      "        1    0.000    0.000    0.000    0.000 numeric.py:2972(__exit__)\n",
      "        1    0.000    0.000    0.000    0.000 fnmatch.py:11(<module>)\n",
      "        2    0.000    0.000    0.000    0.000 numeric.py:2676(geterr)\n",
      "        1    0.000    0.000    0.000    0.000 threading.py:400(notifyAll)\n",
      "        1    0.000    0.000    0.000    0.000 extras.py:1344(__init__)\n",
      "        1    0.000    0.000    0.000    0.000 _internal.py:226(_ctypes)\n",
      "        1    0.000    0.000    0.000    0.000 index_tricks.py:470(__init__)\n",
      "        1    0.000    0.000    0.000    0.000 codecs.py:92(__new__)\n",
      "       24    0.000    0.000    0.000    0.000 sre_parse.py:221(isident)\n",
      "        1    0.000    0.000    0.000    0.000 tempfile.py:108(_RandomNameSequence)\n",
      "        1    0.000    0.000    0.000    0.000 info.py:154(<module>)\n",
      "        1    0.000    0.000    0.000    0.000 copy_reg.py:14(pickle)\n",
      "        1    0.000    0.000    0.000    0.000 index_tricks.py:447(__init__)\n",
      "        1    0.000    0.000    0.000    0.000 info.py:34(<module>)\n",
      "        1    0.000    0.000    0.000    0.000 collections.py:407(Counter)\n",
      "        1    0.000    0.000    0.000    0.000 info.py:83(<module>)\n",
      "        2    0.000    0.000    0.000    0.000 {numpy.core.multiarray.set_string_function}\n",
      "        1    0.000    0.000    0.000    0.000 warnings.py:96(simplefilter)\n",
      "        1    0.000    0.000    0.000    0.000 info.py:184(<module>)\n",
      "        1    0.000    0.000    0.000    0.000 threading.py:373(notify)\n",
      "        1    0.000    0.000    0.000    0.000 __config__.py:3(<module>)\n",
      "       38    0.000    0.000    0.000    0.000 {method 'isalnum' of 'str' objects}\n",
      "        1    0.000    0.000    0.000    0.000 runner.py:28(TextTestResult)\n",
      "        1    0.000    0.000    0.000    0.000 os.py:446(get)\n",
      "        1    0.000    0.000    0.000    0.000 records.py:298(recarray)\n",
      "        1    0.000    0.000    0.000    0.000 io.py:69(IOBase)\n",
      "        1    0.000    0.000    0.000    0.000 core.py:6289(__init__)\n",
      "       20    0.000    0.000    0.000    0.000 {method '__subclasshook__' of 'object' objects}\n",
      "        1    0.000    0.000    0.000    0.000 weakref.py:297(__init__)\n",
      "        1    0.000    0.000    0.000    0.000 _import_tools.py:9(PackageLoader)\n",
      "        1    0.000    0.000    0.000    0.000 loader.py:38(TestLoader)\n",
      "        1    0.000    0.000    0.000    0.000 _datasource.py:154(DataSource)\n",
      "        1    0.000    0.000    0.000    0.000 _internal.py:200(_getintp_ctype)\n",
      "        1    0.000    0.000    0.000    0.000 numbers.py:270(Rational)\n",
      "       20    0.000    0.000    0.000    0.000 {method '__subclasses__' of 'type' objects}\n",
      "       20    0.000    0.000    0.000    0.000 {method 'remove' of 'set' objects}\n",
      "        2    0.000    0.000    0.000    0.000 {math.log}\n",
      "        2    0.000    0.000    0.000    0.000 os.py:444(__contains__)\n",
      "        1    0.000    0.000    0.000    0.000 StringIO.py:42(StringIO)\n",
      "        1    0.000    0.000    0.000    0.000 numeric.py:2963(__init__)\n",
      "        1    0.000    0.000    0.000    0.000 threading.py:255(_Condition)\n",
      "        1    0.000    0.000    0.000    0.000 _iotools.py:154(LineSplitter)\n",
      "        3    0.000    0.000    0.000    0.000 utils.py:68(__init__)\n",
      "        1    0.000    0.000    0.000    0.000 {_hashlib.openssl_md5}\n",
      "        1    0.000    0.000    0.000    0.000 ctypeslib.py:177(_ndptr)\n",
      "        1    0.000    0.000    0.000    0.000 warnings.py:361(__enter__)\n",
      "        1    0.000    0.000    0.000    0.000 difflib.py:1670(HtmlDiff)\n",
      "        1    0.000    0.000    0.000    0.000 _version.py:18(NumpyVersion)\n",
      "        6    0.000    0.000    0.000    0.000 {method 'insert' of 'list' objects}\n",
      "        7    0.000    0.000    0.000    0.000 {method 'upper' of 'str' objects}\n",
      "        1    0.000    0.000    0.000    0.000 random.py:805(SystemRandom)\n",
      "        1    0.000    0.000    0.000    0.000 warnings.py:340(__init__)\n",
      "        1    0.000    0.000    0.000    0.000 nosetester.py:128(NoseTester)\n",
      "        4    0.000    0.000    0.000    0.000 threading.py:59(__init__)\n",
      "        1    0.000    0.000    0.000    0.000 difflib.py:44(SequenceMatcher)\n",
      "        1    0.000    0.000    0.000    0.000 main.py:63(TestProgram)\n",
      "        1    0.000    0.000    0.000    0.000 {method 'find' of 'str' objects}\n",
      "        1    0.000    0.000    0.000    0.000 threading.py:300(_is_owned)\n",
      "        2    0.000    0.000    0.000    0.000 {method 'setter' of 'property' objects}\n",
      "        1    0.000    0.000    0.000    0.000 {_ctypes.set_conversion_mode}\n",
      "        1    0.000    0.000    0.000    0.000 {method 'union' of 'set' objects}\n",
      "        1    0.000    0.000    0.000    0.000 npyio.py:95(NpzFile)\n",
      "        1    0.000    0.000    0.000    0.000 threading.py:285(__enter__)\n",
      "        3    0.000    0.000    0.000    0.000 {method 'split' of 'str' objects}\n",
      "        7    0.000    0.000    0.000    0.000 case.py:607(_deprecate)\n",
      "        3    0.000    0.000    0.000    0.000 __init__.py:491(CFunctionType)\n",
      "        1    0.000    0.000    0.000    0.000 core.py:6275(__init__)\n",
      "        7    0.000    0.000    0.000    0.000 _inspect.py:144(<lambda>)\n",
      "        6    0.000    0.000    0.000    0.000 core.py:841(__init__)\n",
      "        1    0.000    0.000    0.000    0.000 tempfile.py:383(_TemporaryFileWrapper)\n",
      "        1    0.000    0.000    0.000    0.000 warnings.py:377(__exit__)\n",
      "        8    0.000    0.000    0.000    0.000 {method '__contains__' of 'frozenset' objects}\n",
      "        1    0.000    0.000    0.000    0.000 __init__.py:329(CDLL)\n",
      "        3    0.000    0.000    0.000    0.000 core.py:805(__init__)\n",
      "        1    0.000    0.000    0.000    0.000 pprint.py:84(PrettyPrinter)\n",
      "        1    0.000    0.000    0.000    0.000 core.py:2352(_MaskedPrintOption)\n",
      "        1    0.000    0.000    0.000    0.000 threading.py:125(_RLock)\n",
      "        4    0.000    0.000    0.000    0.000 __init__.py:426(__init__)\n",
      "        1    0.000    0.000    0.000    0.000 runner.py:119(TextTestRunner)\n",
      "        7    0.000    0.000    0.000    0.000 {method 'pop' of 'dict' objects}\n",
      "        3    0.000    0.000    0.000    0.000 utils.py:51(_set_function_name)\n",
      "        6    0.000    0.000    0.000    0.000 {numpy.core.umath.geterrobj}\n",
      "        1    0.000    0.000    0.000    0.000 case.py:1018(FunctionTestCase)\n",
      "        1    0.000    0.000    0.000    0.000 suite.py:78(TestSuite)\n",
      "        7    0.000    0.000    0.000    0.000 __future__.py:75(__init__)\n",
      "        1    0.000    0.000    0.000    0.000 {zip}\n",
      "        1    0.000    0.000    0.000    0.000 suite.py:16(BaseTestSuite)\n",
      "        1    0.000    0.000    0.000    0.000 utils.py:1002(SafeEval)\n",
      "        1    0.000    0.000    0.000    0.000 memmap.py:20(memmap)\n",
      "        1    0.000    0.000    0.000    0.000 getlimits.py:25(finfo)\n",
      "        1    0.000    0.000    0.000    0.000 threading.py:288(__exit__)\n",
      "        3    0.000    0.000    0.000    0.000 __init__.py:101(CFunctionType)\n",
      "        1    0.000    0.000    0.000    0.000 io.py:76(BufferedIOBase)\n",
      "        1    0.000    0.000    0.000    0.000 suite.py:252(_ErrorHolder)\n",
      "        1    0.000    0.000    0.000    0.000 _datasource.py:74(__init__)\n",
      "        1    0.000    0.000    0.000    0.000 function_base.py:2047(vectorize)\n",
      "        1    0.000    0.000    0.000    0.000 threading.py:552(_Event)\n",
      "        1    0.000    0.000    0.000    0.000 utils.py:1580(WarningMessage)\n",
      "        1    0.000    0.000    0.000    0.000 index_tricks.py:87(nd_grid)\n",
      "        1    0.000    0.000    0.000    0.000 __init__.py:385(PyDLL)\n",
      "        1    0.000    0.000    0.000    0.000 index_tricks.py:525(ndindex)\n",
      "        1    0.000    0.000    0.000    0.000 records.py:215(record)\n",
      "        1    0.000    0.000    0.000    0.000 threading.py:780(_set_ident)\n",
      "        1    0.000    0.000    0.000    0.000 core.py:6342(_frommethod)\n",
      "        2    0.000    0.000    0.000    0.000 __init__.py:356(_FuncPtr)\n",
      "        1    0.000    0.000    0.000    0.000 {math.sqrt}\n",
      "        1    0.000    0.000    0.000    0.000 core.py:961(_MaskedBinaryOperation)\n",
      "        1    0.000    0.000    0.000    0.000 utils.py:1881(clear_and_catch_warnings)\n",
      "        1    0.000    0.000    0.000    0.000 difflib.py:764(Differ)\n",
      "        1    0.000    0.000    0.000    0.000 core.py:2569(MaskedIterator)\n",
      "        5    0.000    0.000    0.000    0.000 {method 'remove' of 'list' objects}\n",
      "        1    0.000    0.000    0.000    0.000 index_tricks.py:223(AxisConcatenator)\n",
      "        1    0.000    0.000    0.000    0.000 core.py:6214(_extrema_operation)\n",
      "        1    0.000    0.000    0.000    0.000 records.py:83(format_parser)\n",
      "        1    0.000    0.000    0.000    0.000 _datasource.py:504(Repository)\n",
      "        1    0.000    0.000    0.000    0.000 numbers.py:13(Number)\n",
      "        1    0.000    0.000    0.000    0.000 contextlib.py:132(closing)\n",
      "        1    0.000    0.000    0.000    0.000 {_hashlib.openssl_sha384}\n",
      "        1    0.000    0.000    0.000    0.000 utils.py:56(_Deprecate)\n",
      "        1    0.000    0.000    0.000    0.000 version.py:5(<module>)\n",
      "        1    0.000    0.000    0.000    0.000 utils.py:1612(WarningManager)\n",
      "        1    0.000    0.000    0.000    0.000 _datasource.py:50(_FileOpeners)\n",
      "        2    0.000    0.000    0.000    0.000 index_tricks.py:647(__init__)\n",
      "        1    0.000    0.000    0.000    0.000 threading.py:57(_Verbose)\n",
      "        1    0.000    0.000    0.000    0.000 npyio.py:40(BagObj)\n",
      "        1    0.000    0.000    0.000    0.000 __future__.py:74(_Feature)\n",
      "        1    0.000    0.000    0.000    0.000 index_tricks.py:475(ndenumerate)\n",
      "        1    0.000    0.000    0.000    0.000 __init__.py:156(py_object)\n",
      "        1    0.000    0.000    0.000    0.000 unicode_escape.py:13(Codec)\n",
      "        1    0.000    0.000    0.000    0.000 threading.py:423(_Semaphore)\n",
      "        1    0.000    0.000    0.000    0.000 __init__.py:240(c_char_p)\n",
      "        1    0.000    0.000    0.000    0.000 stride_tricks.py:15(DummyArray)\n",
      "        5    0.000    0.000    0.000    0.000 _inspect.py:145(<lambda>)\n",
      "        1    0.000    0.000    0.000    0.000 __init__.py:416(OleDLL)\n",
      "        1    0.000    0.000    0.000    0.000 _internal.py:219(_missing_ctypes)\n",
      "        1    0.000    0.000    0.000    0.000 machar.py:17(MachAr)\n",
      "        1    0.000    0.000    0.000    0.000 arrayprint.py:528(FloatFormat)\n",
      "        1    0.000    0.000    0.000    0.000 core.py:7764(_convert2ma)\n",
      "        1    0.000    0.000    0.000    0.000 utils.py:1841(IgnoreException)\n",
      "        1    0.000    0.000    0.000    0.000 threading.py:1079(_MainThread)\n",
      "        1    0.000    0.000    0.000    0.000 numerictypes.py:765(_typedict)\n",
      "        1    0.000    0.000    0.000    0.000 contextlib.py:9(GeneratorContextManager)\n",
      "        1    0.000    0.000    0.000    0.000 polyutils.py:58(RankWarning)\n",
      "        1    0.000    0.000    0.000    0.000 core.py:855(_DomainGreater)\n",
      "        1    0.000    0.000    0.000    0.000 __init__.py:177(c_ulong)\n",
      "        1    0.000    0.000    0.000    0.000 core.py:6271(_minimum_operation)\n",
      "        1    0.000    0.000    0.000    0.000 threading.py:1049(_Timer)\n",
      "        1    0.000    0.000    0.000    0.000 polynomial.py:22(RankWarning)\n",
      "        1    0.000    0.000    0.000    0.000 {_hashlib.openssl_sha224}\n",
      "        3    0.000    0.000    0.000    0.000 core.py:861(__init__)\n",
      "        1    0.000    0.000    0.000    0.000 runner.py:12(_WritelnDecorator)\n",
      "        1    0.000    0.000    0.000    0.000 arrayprint.py:712(DatetimeFormat)\n",
      "        1    0.000    0.000    0.000    0.000 numeric.py:2900(errstate)\n",
      "        3    0.000    0.000    0.000    0.000 {method 'clear' of 'dict' objects}\n",
      "        1    0.000    0.000    0.000    0.000 core.py:138(MaskError)\n",
      "        1    0.000    0.000    0.000    0.000 signals.py:9(_InterruptHandler)\n",
      "        1    0.000    0.000    0.000    0.000 _endian.py:23(_swapped_meta)\n",
      "        8    0.000    0.000    0.000    0.000 {method 'isdigit' of 'str' objects}\n",
      "        1    0.000    0.000    0.000    0.000 unicode_escape.py:20(IncrementalEncoder)\n",
      "        1    0.000    0.000    0.000    0.000 arrayprint.py:634(IntegerFormat)\n",
      "        1    0.000    0.000    0.000    0.000 arrayprint.py:695(ComplexFormat)\n",
      "        1    0.000    0.000    0.000    0.000 core.py:835(_DomainSafeDivide)\n",
      "        1    0.000    0.000    0.000    0.000 linalg.py:43(LinAlgError)\n",
      "        1    0.000    0.000    0.000    0.000 case.py:98(_AssertRaisesContext)\n",
      "        1    0.000    0.000    0.000    0.000 {method 'rstrip' of 'str' objects}\n",
      "        1    0.000    0.000    0.000    0.000 __init__.py:425(LibraryLoader)\n",
      "        1    0.000    0.000    0.000    0.000 io.py:79(TextIOBase)\n",
      "        1    0.000    0.000    0.000    0.000 extras.py:1332(MAxisConcatenator)\n",
      "        1    0.000    0.000    0.000    0.000 case.py:25(SkipTest)\n",
      "        1    0.000    0.000    0.000    0.000 core.py:885(_MaskedUnaryOperation)\n",
      "        1    0.000    0.000    0.000    0.000 index_tricks.py:603(IndexExpression)\n",
      "        1    0.000    0.000    0.000    0.000 extras.py:215(_fromnxfunction)\n",
      "        1    0.000    0.000    0.000    0.000 arrayprint.py:684(LongComplexFormat)\n",
      "        1    0.000    0.000    0.000    0.000 copy_reg.py:27(constructor)\n",
      "        1    0.000    0.000    0.000    0.000 threading.py:515(_BoundedSemaphore)\n",
      "        1    0.000    0.000    0.000    0.000 io.py:73(RawIOBase)\n",
      "        1    0.000    0.000    0.000    0.000 extras.py:1398(mr_class)\n",
      "        1    0.000    0.000    0.000    0.000 core.py:870(_DomainGreaterEqual)\n",
      "        1    0.000    0.000    0.000    0.000 threading.py:1119(_DummyThread)\n",
      "        1    0.000    0.000    0.000    0.000 index_tricks.py:452(CClass)\n",
      "        2    0.000    0.000    0.000    0.000 sre_parse.py:224(isdigit)\n",
      "        1    0.000    0.000    0.000    0.000 unicode_escape.py:24(IncrementalDecoder)\n",
      "        1    0.000    0.000    0.000    0.000 core.py:818(_DomainTan)\n",
      "        1    0.000    0.000    0.000    0.000 {method '__enter__' of 'thread.lock' objects}\n",
      "        1    0.000    0.000    0.000    0.000 {_hashlib.openssl_sha512}\n",
      "        1    0.000    0.000    0.000    0.000 core.py:6285(_maximum_operation)\n",
      "        1    0.000    0.000    0.000    0.000 suite.py:299(_DebugResult)\n",
      "        1    0.000    0.000    0.000    0.000 case.py:34(_ExpectedFailure)\n",
      "        2    0.000    0.000    0.000    0.000 index_tricks.py:148(__init__)\n",
      "        1    0.000    0.000    0.000    0.000 __init__.py:257(c_bool)\n",
      "        1    0.000    0.000    0.000    0.000 arrayprint.py:733(TimedeltaFormat)\n",
      "        1    0.000    0.000    0.000    0.000 {numpy.core.multiarray.set_typeDict}\n",
      "        1    0.000    0.000    0.000    0.000 __init__.py:223(c_ubyte)\n",
      "        1    0.000    0.000    0.000    0.000 _globals.py:45(VisibleDeprecationWarning)\n",
      "        1    0.000    0.000    0.000    0.000 shutil.py:38(ExecError)\n",
      "        1    0.000    0.000    0.000    0.000 {_hashlib.openssl_sha1}\n",
      "        1    0.000    0.000    0.000    0.000 __init__.py:194(c_float)\n",
      "        1    0.000    0.000    0.000    0.000 __init__.py:198(c_double)\n",
      "        1    0.000    0.000    0.000    0.000 __init__.py:202(c_longdouble)\n",
      "        1    0.000    0.000    0.000    0.000 case.py:45(_UnexpectedSuccess)\n",
      "        1    0.000    0.000    0.000    0.000 {method 'acquire' of 'thread.lock' objects}\n",
      "        1    0.000    0.000    0.000    0.000 __init__.py:288(c_wchar_p)\n",
      "        1    0.000    0.000    0.000    0.000 _iotools.py:452(ConverterLockError)\n",
      "        1    0.000    0.000    0.000    0.000 core.py:90(MaskedArrayFutureWarning)\n",
      "        1    0.000    0.000    0.000    0.000 __init__.py:216(c_ulonglong)\n",
      "        1    0.000    0.000    0.000    0.000 shutil.py:34(SpecialFileError)\n",
      "        1    0.000    0.000    0.000    0.000 _internal.py:631(TooHardError)\n",
      "        1    0.000    0.000    0.000    0.000 polyutils.py:66(PolyDomainError)\n",
      "        1    0.000    0.000    0.000    0.000 polyutils.py:62(PolyError)\n",
      "        1    0.000    0.000    0.000    0.000 __init__.py:169(c_ushort)\n",
      "        1    0.000    0.000    0.000    0.000 __init__.py:252(c_void_p)\n",
      "        1    0.000    0.000    0.000    0.000 __init__.py:291(c_wchar)\n",
      "        1    0.000    0.000    0.000    0.000 {method '__exit__' of 'thread.lock' objects}\n",
      "        1    0.000    0.000    0.000    0.000 index_tricks.py:352(RClass)\n",
      "        1    0.000    0.000    0.000    0.000 core.py:826(__init__)\n",
      "        1    0.000    0.000    0.000    0.000 polyutils.py:79(PolyBase)\n",
      "        1    0.000    0.000    0.000    0.000 _endian.py:46(BigEndianStructure)\n",
      "        1    0.000    0.000    0.000    0.000 {_hashlib.openssl_sha256}\n",
      "        1    0.000    0.000    0.000    0.000 unicode_escape.py:28(StreamWriter)\n",
      "        1    0.000    0.000    0.000    0.000 threading.py:1088(_set_daemon)\n",
      "        1    0.000    0.000    0.000    0.000 __init__.py:394(WinDLL)\n",
      "        1    0.000    0.000    0.000    0.000 __init__.py:235(c_char)\n",
      "        2    0.000    0.000    0.000    0.000 {thread.get_ident}\n",
      "        1    0.000    0.000    0.000    0.000 utils.py:37(KnownFailureException)\n",
      "        1    0.000    0.000    0.000    0.000 __init__.py:173(c_long)\n",
      "        1    0.000    0.000    0.000    0.000 core.py:1118(_DomainedBinaryOperation)\n",
      "        1    0.000    0.000    0.000    0.000 numeric.py:2896(_unspecified)\n",
      "        1    0.000    0.000    0.000    0.000 core.py:796(_DomainCheckInterval)\n",
      "        1    0.000    0.000    0.000    0.000 _iotools.py:444(ConverterError)\n",
      "        1    0.000    0.000    0.000    0.000 _iotools.py:460(ConversionWarning)\n",
      "        1    0.000    0.000    0.000    0.000 __init__.py:403(HRESULT)\n",
      "        1    0.000    0.000    0.000    0.000 _import_tools.py:340(PackageLoaderDebug)\n",
      "        1    0.000    0.000    0.000    0.000 _globals.py:33(ModuleDeprecationWarning)\n",
      "        1    0.000    0.000    0.000    0.000 core.py:2358(__init__)\n",
      "        1    0.000    0.000    0.000    0.000 __init__.py:230(c_byte)\n",
      "        1    0.000    0.000    0.000    0.000 shutil.py:31(Error)\n",
      "        1    0.000    0.000    0.000    0.000 numeric.py:55(ComplexWarning)\n",
      "        1    0.000    0.000    0.000    0.000 __init__.py:212(c_longlong)\n",
      "        1    0.000    0.000    0.000    0.000 arrayprint.py:654(LongFloatFormat)\n",
      "        1    0.000    0.000    0.000    0.000 __init__.py:165(c_short)\n",
      "        1    0.000    0.000    0.000    0.000 {method 'disable' of '_lsprof.Profiler' objects}\n",
      "        1    0.000    0.000    0.000    0.000 core.py:130(MAError)\n",
      "        1    0.000    0.000    0.000    0.000 threading.py:64(_note)\n",
      "        1    0.000    0.000    0.000    0.000 core.py:6114(__array_finalize__)\n",
      "        2    0.000    0.000    0.000    0.000 core.py:876(__init__)\n",
      "        1    0.000    0.000    0.000    0.000 unicode_escape.py:31(StreamReader)\n",
      "        1    0.000    0.000    0.000    0.000 _globals.py:56(_NoValue)\n",
      "\n",
      "\n"
     ]
    }
   ],
   "source": [
    "!python -m cProfile -s cumulative cprof_example.py   # -s cumulative -s标记指定一个排序规则"
   ]
  },
  {
   "cell_type": "code",
   "execution_count": 12,
   "metadata": {
    "collapsed": false
   },
   "outputs": [
    {
     "name": "stdout",
     "output_type": "stream",
     "text": [
      " "
     ]
    }
   ],
   "source": [
    "# 编程的方式分许任意代码块的性能\n",
    "# %prun明和和带-p选项的%run，分析的是Python语句而不是整个文件\n",
    "\n",
    "%prun -l 7 -s cumulative run_experiment()"
   ]
  },
  {
   "cell_type": "markdown",
   "metadata": {},
   "source": [
    "##  逐行分析函数性能"
   ]
  },
  {
   "cell_type": "code",
   "execution_count": 14,
   "metadata": {
    "collapsed": true
   },
   "outputs": [],
   "source": [
    "# 使用line_profier小型库，有一个新的魔术函数%lprun\n",
    "from numpy.random import randn"
   ]
  },
  {
   "cell_type": "code",
   "execution_count": 15,
   "metadata": {
    "collapsed": true
   },
   "outputs": [],
   "source": [
    "def add_and_sum(x, y):\n",
    "    added = x+y\n",
    "    summed = added.sum(axis = 1)\n",
    "    return summed\n",
    "\n",
    "def call_function():\n",
    "    x = randn(1000, 1000)\n",
    "    y = randn(1000,1000)\n",
    "    return add_and_sum(x, y)"
   ]
  },
  {
   "cell_type": "code",
   "execution_count": 17,
   "metadata": {
    "collapsed": false
   },
   "outputs": [],
   "source": [
    "x = randn(3000, 3000)"
   ]
  },
  {
   "cell_type": "code",
   "execution_count": 18,
   "metadata": {
    "collapsed": true
   },
   "outputs": [],
   "source": [
    "y = randn(3000,3000)"
   ]
  },
  {
   "cell_type": "code",
   "execution_count": 19,
   "metadata": {
    "collapsed": false
   },
   "outputs": [
    {
     "name": "stdout",
     "output_type": "stream",
     "text": [
      " "
     ]
    }
   ],
   "source": [
    "%prun add_and_sum(x, y)"
   ]
  },
  {
   "cell_type": "code",
   "execution_count": 1,
   "metadata": {
    "collapsed": false
   },
   "outputs": [
    {
     "name": "stderr",
     "output_type": "stream",
     "text": [
      "ERROR:root:Line magic function `%lprun` not found.\n"
     ]
    }
   ],
   "source": [
    "%lprun -f add_adn_sum -f add_and_sum(x, y)"
   ]
  },
  {
   "cell_type": "code",
   "execution_count": 2,
   "metadata": {
    "collapsed": false
   },
   "outputs": [
    {
     "name": "stdout",
     "output_type": "stream",
     "text": [
      "The Zen of Python, by Tim Peters\n",
      "\n",
      "Beautiful is better than ugly.\n",
      "Explicit is better than implicit.\n",
      "Simple is better than complex.\n",
      "Complex is better than complicated.\n",
      "Flat is better than nested.\n",
      "Sparse is better than dense.\n",
      "Readability counts.\n",
      "Special cases aren't special enough to break the rules.\n",
      "Although practicality beats purity.\n",
      "Errors should never pass silently.\n",
      "Unless explicitly silenced.\n",
      "In the face of ambiguity, refuse the temptation to guess.\n",
      "There should be one-- and preferably only one --obvious way to do it.\n",
      "Although that way may not be obvious at first unless you're Dutch.\n",
      "Now is better than never.\n",
      "Although never is often better than *right* now.\n",
      "If the implementation is hard to explain, it's a bad idea.\n",
      "If the implementation is easy to explain, it may be a good idea.\n",
      "Namespaces are one honking great idea -- let's do more of those!\n"
     ]
    }
   ],
   "source": [
    "import this"
   ]
  },
  {
   "cell_type": "code",
   "execution_count": null,
   "metadata": {
    "collapsed": true
   },
   "outputs": [],
   "source": []
  }
 ],
 "metadata": {
  "kernelspec": {
   "display_name": "Python 2",
   "language": "python",
   "name": "python2"
  },
  "language_info": {
   "codemirror_mode": {
    "name": "ipython",
    "version": 2
   },
   "file_extension": ".py",
   "mimetype": "text/x-python",
   "name": "python",
   "nbconvert_exporter": "python",
   "pygments_lexer": "ipython2",
   "version": "2.7.13"
  }
 },
 "nbformat": 4,
 "nbformat_minor": 2
}
